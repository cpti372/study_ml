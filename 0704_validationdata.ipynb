{
  "nbformat": 4,
  "nbformat_minor": 0,
  "metadata": {
    "colab": {
      "name": "0704_validationdata.ipynb",
      "provenance": [],
      "authorship_tag": "ABX9TyMuh2mEl4xy85F90HT2Gx6I",
      "include_colab_link": true
    },
    "kernelspec": {
      "name": "python3",
      "display_name": "Python 3"
    }
  },
  "cells": [
    {
      "cell_type": "markdown",
      "metadata": {
        "id": "view-in-github",
        "colab_type": "text"
      },
      "source": [
        "<a href=\"https://colab.research.google.com/github/cpti372/study_ml/blob/master/0704_validationdata.ipynb\" target=\"_parent\"><img src=\"https://colab.research.google.com/assets/colab-badge.svg\" alt=\"Open In Colab\"/></a>"
      ]
    },
    {
      "cell_type": "code",
      "metadata": {
        "id": "_WXoRN84Nwh4",
        "colab_type": "code",
        "colab": {
          "base_uri": "https://localhost:8080/",
          "height": 374
        },
        "outputId": "97e8f49c-4428-4883-a19f-8fd2ad9f9056"
      },
      "source": [
        "import numpy as np\n",
        "\n",
        "data = np.random.random((1000, 32))\n",
        "labels = np.random.random((1000, 10))\n",
        "\n",
        "val_data = np.random.random((100, 32))\n",
        "val_labels = np.random.random((100, 10))\n",
        "\n",
        "model.fit(data, labels, epochs=10, batch_size=32,\n",
        "          validation_data=(val_data, val_labels))"
      ],
      "execution_count": 3,
      "outputs": [
        {
          "output_type": "stream",
          "text": [
            "Epoch 1/10\n",
            "32/32 [==============================] - 0s 7ms/step - loss: 11.9966 - accuracy: 0.0980 - val_loss: 13.2409 - val_accuracy: 0.1100\n",
            "Epoch 2/10\n",
            "32/32 [==============================] - 0s 2ms/step - loss: 15.6250 - accuracy: 0.0960 - val_loss: 17.5113 - val_accuracy: 0.1000\n",
            "Epoch 3/10\n",
            "32/32 [==============================] - 0s 2ms/step - loss: 21.8188 - accuracy: 0.0950 - val_loss: 29.2988 - val_accuracy: 0.1200\n",
            "Epoch 4/10\n",
            "32/32 [==============================] - 0s 2ms/step - loss: 37.0854 - accuracy: 0.1090 - val_loss: 48.2361 - val_accuracy: 0.1000\n",
            "Epoch 5/10\n",
            "32/32 [==============================] - 0s 2ms/step - loss: 55.7973 - accuracy: 0.1050 - val_loss: 70.3758 - val_accuracy: 0.1000\n",
            "Epoch 6/10\n",
            "32/32 [==============================] - 0s 2ms/step - loss: 79.4765 - accuracy: 0.1000 - val_loss: 96.1509 - val_accuracy: 0.1100\n",
            "Epoch 7/10\n",
            "32/32 [==============================] - 0s 2ms/step - loss: 107.7326 - accuracy: 0.1010 - val_loss: 123.3241 - val_accuracy: 0.1400\n",
            "Epoch 8/10\n",
            "32/32 [==============================] - 0s 2ms/step - loss: 132.3030 - accuracy: 0.0980 - val_loss: 147.9855 - val_accuracy: 0.1100\n",
            "Epoch 9/10\n",
            "32/32 [==============================] - 0s 2ms/step - loss: 150.6713 - accuracy: 0.1010 - val_loss: 161.9539 - val_accuracy: 0.1500\n",
            "Epoch 10/10\n",
            "32/32 [==============================] - 0s 2ms/step - loss: 155.5999 - accuracy: 0.0930 - val_loss: 160.0627 - val_accuracy: 0.1000\n"
          ],
          "name": "stdout"
        },
        {
          "output_type": "execute_result",
          "data": {
            "text/plain": [
              "<tensorflow.python.keras.callbacks.History at 0x7fc6aecb40b8>"
            ]
          },
          "metadata": {
            "tags": []
          },
          "execution_count": 3
        }
      ]
    }
  ]
}