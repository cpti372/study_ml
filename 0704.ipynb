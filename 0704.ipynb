{
  "nbformat": 4,
  "nbformat_minor": 0,
  "metadata": {
    "colab": {
      "name": "0704.ipynb",
      "provenance": [],
      "authorship_tag": "ABX9TyNuavw+LNvjbDPJLfcCmAY7",
      "include_colab_link": true
    },
    "kernelspec": {
      "name": "python3",
      "display_name": "Python 3"
    }
  },
  "cells": [
    {
      "cell_type": "markdown",
      "metadata": {
        "id": "view-in-github",
        "colab_type": "text"
      },
      "source": [
        "<a href=\"https://colab.research.google.com/github/cpti372/study_ml/blob/yeonsu/0704.ipynb\" target=\"_parent\"><img src=\"https://colab.research.google.com/assets/colab-badge.svg\" alt=\"Open In Colab\"/></a>"
      ]
    },
    {
      "cell_type": "code",
      "metadata": {
        "id": "72OA0kpzU_Fg",
        "colab_type": "code",
        "colab": {
          "base_uri": "https://localhost:8080/",
          "height": 34
        },
        "outputId": "f7beafc9-7a08-40c1-8df5-e933ef8c3bb8"
      },
      "source": [
        "import os\n",
        "os.environ['TF_CPP_MIN_LOG_LEVEL'] = '2'\n",
        " \n",
        "import tensorflow as tf\n",
        " \n",
        "# 앞쪽 레이어의 노드 빌드하기\n",
        "node1 = tf.constant(3.0, tf.float32)\n",
        "node2 = tf.constant(4.0, tf.float32)\n",
        " \n",
        "# 뒷쪽 레이어의 노드(즉 node3)를 함수로 정의하기\n",
        "@tf.function\n",
        "def forward() :\n",
        "    return node1 + node2\n",
        " \n",
        "# 그래프를 실행시키고 output을 확인해보기\n",
        "out_a = forward()\n",
        "print(out_a)\n"
      ],
      "execution_count": 1,
      "outputs": [
        {
          "output_type": "stream",
          "text": [
            "tf.Tensor(7.0, shape=(), dtype=float32)\n"
          ],
          "name": "stdout"
        }
      ]
    }
  ]
}