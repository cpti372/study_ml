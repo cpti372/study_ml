{
 "cells": [
  {
   "cell_type": "markdown",
   "metadata": {},
   "source": [
    "## 역전파 학습법을 이용한 심층 신경망 학습"
   ]
  },
  {
   "cell_type": "code",
   "execution_count": 1,
   "metadata": {},
   "outputs": [],
   "source": [
    "import time\n",
    "import numpy as np"
   ]
  },
  {
   "cell_type": "markdown",
   "metadata": {},
   "source": [
    "## 유틸리티 함수"
   ]
  },
  {
   "cell_type": "code",
   "execution_count": 2,
   "metadata": {},
   "outputs": [],
   "source": [
    "def _t(x):\n",
    "    return np.transpose(x)\n",
    "\n",
    "def _m(A, B):\n",
    "    return np.matmul(A, B)"
   ]
  },
  {
   "cell_type": "markdown",
   "metadata": {},
   "source": [
    "## Sigmoid 구현"
   ]
  },
  {
   "cell_type": "code",
   "execution_count": 3,
   "metadata": {},
   "outputs": [],
   "source": [
    "class Sigmoid:\n",
    "    def __init__(self):\n",
    "        self.last_o = 1\n",
    "\n",
    "    def __call__(self, x): #call 은 forward 용\n",
    "        self.last_o = 1 / (1.0 + np.exp(-x))\n",
    "        return self.last_o\n",
    "\n",
    "    def grad(self): # 백프로게이션 할 때, 다음 레이어와 현재 레이어 미분 sigmoid(x)(1-sigmoid(x))\n",
    "        return self.last_o * (1 - self.last_o)"
   ]
  },
  {
   "cell_type": "markdown",
   "metadata": {},
   "source": [
    "## Mean Squared Error 구현"
   ]
  },
  {
   "cell_type": "code",
   "execution_count": 4,
   "metadata": {},
   "outputs": [],
   "source": [
    "class MeanSquaredError:\n",
    "    def __init__(self):\n",
    "        # gradient\n",
    "        self.dh = 1\n",
    "        self.last_diff = 1        \n",
    "\n",
    "    def __call__(self, h, y): # 1/2 * mean ((h - y)^2)\n",
    "        self.last_diff = h - y\n",
    "        return 1 / 2 * np.mean(np.square(h - y))\n",
    "\n",
    "    def grad(self): # h - y\n",
    "        return self.last_diff"
   ]
  },
  {
   "cell_type": "markdown",
   "metadata": {},
   "source": [
    "## 뉴런 구현"
   ]
  },
  {
   "cell_type": "code",
   "execution_count": 5,
   "metadata": {},
   "outputs": [],
   "source": [
    "class Neuron:\n",
    "    def __init__(self, W, b, a_obj):\n",
    "        # Model parameters\n",
    "        self.W = W\n",
    "        self.b = b\n",
    "        self.a = a_obj()\n",
    "        \n",
    "        # gradient\n",
    "        self.dW = np.zeros_like(self.W)\n",
    "        self.db = np.zeros_like(self.b)\n",
    "        self.dh = np.zeros_like(_t(self.W))\n",
    "        \n",
    "        self.last_x = np.zeros((self.W.shape[0]))\n",
    "        self.last_h = np.zeros((self.W.shape[1]))\n",
    "\n",
    "    def __call__(self, x):\n",
    "        self.last_x = x\n",
    "        self.last_h = _m(_t(self.W), x) + self.b\n",
    "        return self.a(self.last_h)\n",
    "\n",
    "    def grad(self): # dy/dh = W\n",
    "        return self.W * self.a.grad()\n",
    "\n",
    "    def grad_W(self, dh): #dh=그 전값, W에 지금까지 미분 저장 \n",
    "        grad = np.ones_like(self.W)\n",
    "        grad_a = self.a.grad()\n",
    "        for j in range(grad.shape[1]): # dy/dw = x\n",
    "            grad[:, j] = dh[j] * grad_a[j] * self.last_x\n",
    "        return grad\n",
    "\n",
    "    def grad_b(self, dh): # dy/dh = 1, \n",
    "        return dh * self.a.grad()"
   ]
  },
  {
   "cell_type": "markdown",
   "metadata": {},
   "source": [
    "## 심층신경망 구현"
   ]
  },
  {
   "cell_type": "code",
   "execution_count": 6,
   "metadata": {},
   "outputs": [],
   "source": [
    "class DNN:\n",
    "    def __init__(self, hidden_depth, num_neuron, input, output, activation=Sigmoid):\n",
    "        def init_var(i, o):\n",
    "            return np.random.normal(0.0, 0.01, (i, o)), np.zeros((o,))\n",
    "\n",
    "        self.sequence = list()\n",
    "        # First hidden layer\n",
    "        W, b = init_var(input, num_neuron)\n",
    "        self.sequence.append(Neuron(W, b, activation))\n",
    "\n",
    "        # Hidden Layers\n",
    "        for index in range(hidden_depth):\n",
    "            W, b = init_var(num_neuron, num_neuron)\n",
    "            self.sequence.append(Neuron(W, b, activation))\n",
    "\n",
    "        # Output Layer\n",
    "        W, b = init_var(num_neuron, output)\n",
    "        self.sequence.append(Neuron(W, b, activation))\n",
    "\n",
    "    def __call__(self, x):\n",
    "        for layer in self.sequence:\n",
    "            x = layer(x)\n",
    "        return x\n",
    "\n",
    "    def calc_gradient(self, loss_obj):\n",
    "        loss_obj.dh = loss_obj.grad() #loss function 마지막인거를 gradient에 저장한다. \n",
    "        self.sequence.append(loss_obj) #sequence에 넣어줘버리기 \n",
    "        \n",
    "        # back-prop loop\n",
    "        for i in range(len(self.sequence) - 1, 0, -1): #5,4,3,2,1\n",
    "            l1 = self.sequence[i]\n",
    "            l0 = self.sequence[i - 1] #l1 gradient 이용해서 이렇게 계산 \n",
    "            \n",
    "            l0.dh = _m(l0.grad(), l1.dh) #다음 레이어를 현재 그래디언트로 계산 가능 \n",
    "            l0.dW = l0.grad_W(l1.dh)\n",
    "            l0.db = l0.grad_b(l1.dh)\n",
    "        \n",
    "        self.sequence.remove(loss_obj)"
   ]
  },
  {
   "cell_type": "markdown",
   "metadata": {},
   "source": [
    "## 경사하강 학습법"
   ]
  },
  {
   "cell_type": "code",
   "execution_count": 7,
   "metadata": {},
   "outputs": [],
   "source": [
    "def gradient_descent(network, x, y, loss_obj, alpha=0.01):\n",
    "    loss = loss_obj(network(x), y)  # Forward inference\n",
    "    network.calc_gradient(loss_obj)  # Back-propagation\n",
    "    for layer in network.sequence:\n",
    "        layer.W += -alpha * layer.dW\n",
    "        layer.b += -alpha * layer.db\n",
    "    return loss"
   ]
  },
  {
   "cell_type": "markdown",
   "metadata": {},
   "source": [
    "## 동작 테스트"
   ]
  },
  {
   "cell_type": "code",
   "execution_count": 8,
   "metadata": {},
   "outputs": [
    {
     "name": "stdout",
     "output_type": "stream",
     "text": [
      "Epoch 0: Test loss 0.7195245263008829\n",
      "Epoch 1: Test loss 0.7114485966590878\n",
      "Epoch 2: Test loss 0.7034643896592965\n",
      "Epoch 3: Test loss 0.6955763242534243\n",
      "Epoch 4: Test loss 0.6877884741989211\n",
      "Epoch 5: Test loss 0.6801045639174295\n",
      "Epoch 6: Test loss 0.672527966999945\n",
      "Epoch 7: Test loss 0.6650617072198928\n",
      "Epoch 8: Test loss 0.6577084618893877\n",
      "Epoch 9: Test loss 0.6504705673729554\n",
      "Epoch 10: Test loss 0.6433500265571619\n",
      "Epoch 11: Test loss 0.6363485180638175\n",
      "Epoch 12: Test loss 0.6294674069884625\n",
      "Epoch 13: Test loss 0.6227077569443071\n",
      "Epoch 14: Test loss 0.6160703431942708\n",
      "Epoch 15: Test loss 0.6095556666597394\n",
      "Epoch 16: Test loss 0.6031639686035883\n",
      "Epoch 17: Test loss 0.5968952457963717\n",
      "Epoch 18: Test loss 0.5907492659878163\n",
      "Epoch 19: Test loss 0.5847255835203562\n",
      "Epoch 20: Test loss 0.5788235549369458\n",
      "Epoch 21: Test loss 0.5730423544513444\n",
      "Epoch 22: Test loss 0.5673809891651113\n",
      "Epoch 23: Test loss 0.5618383139313478\n",
      "Epoch 24: Test loss 0.5564130457805234\n",
      "Epoch 25: Test loss 0.5511037778382766\n",
      "Epoch 26: Test loss 0.5459089926787702\n",
      "Epoch 27: Test loss 0.5408270750698365\n",
      "Epoch 28: Test loss 0.5358563240777322\n",
      "Epoch 29: Test loss 0.5309949645097781\n",
      "Epoch 30: Test loss 0.526241157682467\n",
      "Epoch 31: Test loss 0.5215930115108314\n",
      "Epoch 32: Test loss 0.5170485899219637\n",
      "Epoch 33: Test loss 0.5126059216016704\n",
      "Epoch 34: Test loss 0.5082630080883476\n",
      "Epoch 35: Test loss 0.50401783123239\n",
      "Epoch 36: Test loss 0.4998683600428345\n",
      "Epoch 37: Test loss 0.4958125569456024\n",
      "Epoch 38: Test loss 0.49184838347970117\n",
      "Epoch 39: Test loss 0.48797380545914626\n",
      "Epoch 40: Test loss 0.48418679762927674\n",
      "Epoch 41: Test loss 0.4804853478465836\n",
      "Epoch 42: Test loss 0.4768674608112572\n",
      "Epoch 43: Test loss 0.4733311613814172\n",
      "Epoch 44: Test loss 0.4698744974974971\n",
      "Epoch 45: Test loss 0.46649554274453164\n",
      "Epoch 46: Test loss 0.4631923985792204\n",
      "Epoch 47: Test loss 0.45996319624761894\n",
      "Epoch 48: Test loss 0.45680609841819825\n",
      "Epoch 49: Test loss 0.4537193005538308\n",
      "Epoch 50: Test loss 0.4507010320450313\n",
      "Epoch 51: Test loss 0.4477495571255352\n",
      "Epoch 52: Test loss 0.4448631755900391\n",
      "Epoch 53: Test loss 0.4420402233326888\n",
      "Epoch 54: Test loss 0.4392790727236683\n",
      "Epoch 55: Test loss 0.43657813284006053\n",
      "Epoch 56: Test loss 0.43393584956599146\n",
      "Epoch 57: Test loss 0.43135070557596367\n",
      "Epoch 58: Test loss 0.42882122021422375\n",
      "Epoch 59: Test loss 0.4263459492819989\n",
      "Epoch 60: Test loss 0.4239234847434858\n",
      "Epoch 61: Test loss 0.42155245436056704\n",
      "Epoch 62: Test loss 0.4192315212653883\n",
      "Epoch 63: Test loss 0.416959383479132\n",
      "Epoch 64: Test loss 0.41473477338457887\n",
      "Epoch 65: Test loss 0.4125564571593621\n",
      "Epoch 66: Test loss 0.4104232341761702\n",
      "Epoch 67: Test loss 0.40833393637556104\n",
      "Epoch 68: Test loss 0.4062874276164985\n",
      "Epoch 69: Test loss 0.4042826030092137\n",
      "Epoch 70: Test loss 0.40231838823452254\n",
      "Epoch 71: Test loss 0.40039373885330076\n",
      "Epoch 72: Test loss 0.39850763960942526\n",
      "Epoch 73: Test loss 0.39665910372912117\n",
      "Epoch 74: Test loss 0.3948471722193301\n",
      "Epoch 75: Test loss 0.3930709131674083\n",
      "Epoch 76: Test loss 0.39132942104418805\n",
      "Epoch 77: Test loss 0.3896218160121859\n",
      "Epoch 78: Test loss 0.38794724324051455\n",
      "Epoch 79: Test loss 0.38630487222784465\n",
      "Epoch 80: Test loss 0.3846938961345817\n",
      "Epoch 81: Test loss 0.38311353112524854\n",
      "Epoch 82: Test loss 0.38156301572191564\n",
      "Epoch 83: Test loss 0.3800416101693829\n",
      "Epoch 84: Test loss 0.3785485958126923\n",
      "Epoch 85: Test loss 0.3770832744874417\n",
      "Epoch 86: Test loss 0.375644967923273\n",
      "Epoch 87: Test loss 0.3742330171608116\n",
      "Epoch 88: Test loss 0.3728467819822683\n",
      "Epoch 89: Test loss 0.3714856403558331\n",
      "Epoch 90: Test loss 0.3701489878939339\n",
      "Epoch 91: Test loss 0.3688362373253796\n",
      "Epoch 92: Test loss 0.367546817981356\n",
      "Epoch 93: Test loss 0.3662801752952024\n",
      "Epoch 94: Test loss 0.3650357703158599\n",
      "Epoch 95: Test loss 0.36381307923484985\n",
      "Epoch 96: Test loss 0.3626115929266173\n",
      "Epoch 97: Test loss 0.36143081650204184\n",
      "Epoch 98: Test loss 0.36027026887490987\n",
      "Epoch 99: Test loss 0.3591294823411164\n",
      "0.41510009765625 seconds elapsed.\n"
     ]
    }
   ],
   "source": [
    "x = np.random.normal(0.0, 1.0, (10,))\n",
    "y = np.random.normal(0.0, 1.0, (2,))\n",
    "\n",
    "t = time.time()\n",
    "dnn = DNN(hidden_depth=5, num_neuron=32, input=10, output=2, activation=Sigmoid)\n",
    "loss_obj = MeanSquaredError()\n",
    "for epoch in range(100):\n",
    "    loss = gradient_descent(dnn, x, y, loss_obj, alpha=0.01)\n",
    "    print('Epoch {}: Test loss {}'.format(epoch, loss))\n",
    "print('{} seconds elapsed.'.format(time.time() - t))"
   ]
  },
  {
   "cell_type": "code",
   "execution_count": null,
   "metadata": {},
   "outputs": [],
   "source": []
  }
 ],
 "metadata": {
  "kernelspec": {
   "display_name": "Python 3",
   "language": "python",
   "name": "python3"
  },
  "language_info": {
   "codemirror_mode": {
    "name": "ipython",
    "version": 3
   },
   "file_extension": ".py",
   "mimetype": "text/x-python",
   "name": "python",
   "nbconvert_exporter": "python",
   "pygments_lexer": "ipython3",
   "version": "3.7.7"
  }
 },
 "nbformat": 4,
 "nbformat_minor": 2
}
