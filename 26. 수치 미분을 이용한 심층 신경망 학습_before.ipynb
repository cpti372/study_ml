{
 "cells": [
  {
   "cell_type": "markdown",
   "metadata": {},
   "source": [
    "## 수치 미분을 이용한 심층 신경망 학습"
   ]
  },
  {
   "cell_type": "code",
   "execution_count": 103,
   "metadata": {},
   "outputs": [],
   "source": [
    "import time\n",
    "import numpy as np"
   ]
  },
  {
   "cell_type": "markdown",
   "metadata": {},
   "source": [
    "## 유틸리티 함수"
   ]
  },
  {
   "cell_type": "code",
   "execution_count": 108,
   "metadata": {},
   "outputs": [],
   "source": [
    "epsilon = 0.0001\n",
    "\n",
    "def _t(x):\n",
    "    return np.transpose(x)\n",
    "\n",
    "def _m(A, B):\n",
    "    return np.matmul(A, B)\n",
    "\n",
    "def sigmoid(x):\n",
    "    return 1 / (1 + np.exp(-x))\n",
    "\n",
    "def mean_squared_error(h, y):\n",
    "    return 1 / 2 * np.mean(np.square(h - y))"
   ]
  },
  {
   "cell_type": "markdown",
   "metadata": {},
   "source": [
    "## 뉴런 구현"
   ]
  },
  {
   "cell_type": "code",
   "execution_count": 109,
   "metadata": {},
   "outputs": [],
   "source": [
    "class Neuron:\n",
    "    def __init__(self, W, b, a):\n",
    "        #model parameter\n",
    "        self.W=W\n",
    "        self.b=b\n",
    "        self.a=a\n",
    "        \n",
    "        #gradient\n",
    "        self.dW=np.zeros_like(self.W)\n",
    "        self.db=np.zeros_like(self.b)\n",
    "\n",
    "    def __call__(self, x):\n",
    "        return self.a(_m(_t(self.W),x)+self.b) #acitvation ((W^T)x+b)"
   ]
  },
  {
   "cell_type": "markdown",
   "metadata": {},
   "source": [
    "## 심층신경망 구현"
   ]
  },
  {
   "cell_type": "code",
   "execution_count": 116,
   "metadata": {},
   "outputs": [],
   "source": [
    "class DNN:\n",
    "    def __init__(self, hidden_depth, num_neuron, num_input, num_output, activation=sigmoid):\n",
    "        def init_var(i, o):\n",
    "            return np.random.normal(0.0, 0.01, (i, o)), np.zeros((o,))\n",
    "\n",
    "        self.sequence = list()\n",
    "        # First hidden layer\n",
    "        W, b = init_var(num_input, num_neuron)\n",
    "        self.sequence.append(Neuron(W, b, activation))\n",
    "        \n",
    "        # Hidden layers\n",
    "        for _ in range(hidden_depth - 1):\n",
    "            W, b = init_var(num_neuron, num_neuron)\n",
    "            self.sequence.append(Neuron(W, b, activation))\n",
    "\n",
    "        # Output layer\n",
    "        W, b = init_var(num_neuron, num_output)\n",
    "        self.sequence.append(Neuron(W, b, activation))\n",
    "\n",
    "    def __call__(self, x):\n",
    "        for layer in self.sequence:\n",
    "            x = layer(x)\n",
    "        return x\n",
    "\n",
    "    def calc_gradient(self, x, y, loss_func):\n",
    "        def get_new_sequence(layer_index, new_neuron):\n",
    "            new_sequence = list()\n",
    "            for i, layer in enumerate(self.sequence):\n",
    "                if i == layer_index:\n",
    "                    new_sequence.append(new_neuron)\n",
    "                else:\n",
    "                    new_sequence.append(layer)\n",
    "            return new_sequence\n",
    "        \n",
    "        def eval_sequence(x, sequence):\n",
    "            for layer in sequence:\n",
    "                x = layer(x)\n",
    "            return x\n",
    "        \n",
    "        loss = loss_func(self(x), y)\n",
    "        \n",
    "        for layer_id, layer in enumerate(self.sequence): # iterate layer\n",
    "            for w_i, w in enumerate(layer.W): # iterate W (row)\n",
    "                for w_j, ww in enumerate(w): # iterate W (col)\n",
    "                    W = np.copy(layer.W)\n",
    "                    W[w_i][w_j] = ww + epsilon\n",
    "                    \n",
    "                    new_neuron = Neuron(W, layer.b, layer.a)\n",
    "                    new_seq = get_new_sequence(layer_id, new_neuron)\n",
    "                    h = eval_sequence(x, new_seq)\n",
    "                    \n",
    "                    num_grad = (loss_func(h, y) - loss) / epsilon  # (f(x+eps) - f(x)) / epsilon\n",
    "                    layer.dW[w_i][w_j] = num_grad\n",
    "            \n",
    "                for b_i, bb in enumerate(layer.b): # iterate b\n",
    "                    b = np.copy(layer.b)\n",
    "                    b[b_i] = bb + epsilon\n",
    "                    \n",
    "                    new_neuron = Neuron(layer.W, b, layer.a)\n",
    "                    new_seq = get_new_sequence(layer_id, new_neuron)\n",
    "                    h = eval_sequence(x, new_seq)\n",
    "                    \n",
    "                    num_grad = (loss_func(h, y) - loss) / epsilon  # (f(x+eps) - f(x)) / epsilon\n",
    "                    layer.db[b_i] = num_grad\n",
    "        return loss\n",
    "        \n",
    "        \n",
    "                    \n",
    "                    \n"
   ]
  },
  {
   "cell_type": "markdown",
   "metadata": {},
   "source": [
    "## 경사하강 학습법"
   ]
  },
  {
   "cell_type": "code",
   "execution_count": 117,
   "metadata": {},
   "outputs": [],
   "source": [
    "def gradient_descent(network, x, y, loss_obj, alpha=0.01):\n",
    "    loss = network.calc_gradient(x, y, loss_obj)\n",
    "    for layer in network.sequence:\n",
    "        layer.W += -alpha * layer.dW\n",
    "        layer.b += -alpha * layer.db\n",
    "    return loss"
   ]
  },
  {
   "cell_type": "markdown",
   "metadata": {},
   "source": [
    "## 동작 테스트"
   ]
  },
  {
   "cell_type": "code",
   "execution_count": 118,
   "metadata": {},
   "outputs": [
    {
     "name": "stdout",
     "output_type": "stream",
     "text": [
      "Epoch 0: Test loss 0.08098926167073224\n",
      "Epoch 1: Test loss 0.08053483346470221\n",
      "Epoch 2: Test loss 0.08008308024538215\n",
      "Epoch 3: Test loss 0.07963400227220341\n",
      "Epoch 4: Test loss 0.07918759936458644\n",
      "Epoch 5: Test loss 0.07874387090960776\n",
      "Epoch 6: Test loss 0.07830281586969547\n",
      "Epoch 7: Test loss 0.07786443279038335\n",
      "Epoch 8: Test loss 0.07742871980813945\n",
      "Epoch 9: Test loss 0.07699567465817775\n",
      "Epoch 10: Test loss 0.07656529468235389\n",
      "Epoch 11: Test loss 0.07613757683706031\n",
      "Epoch 12: Test loss 0.0757125177011411\n",
      "Epoch 13: Test loss 0.07529011348383059\n",
      "Epoch 14: Test loss 0.07487036003268258\n",
      "Epoch 15: Test loss 0.07445325284151923\n",
      "Epoch 16: Test loss 0.07403878705834772\n",
      "Epoch 17: Test loss 0.07362695749329554\n",
      "Epoch 18: Test loss 0.07321775862650261\n",
      "Epoch 19: Test loss 0.0728111846160176\n",
      "Epoch 20: Test loss 0.0724072293056433\n",
      "Epoch 21: Test loss 0.07200588623276782\n",
      "Epoch 22: Test loss 0.071607148636153\n",
      "Epoch 23: Test loss 0.07121100946367553\n",
      "Epoch 24: Test loss 0.07081746138003316\n",
      "Epoch 25: Test loss 0.07042649677440392\n",
      "Epoch 26: Test loss 0.07003810776803993\n",
      "Epoch 27: Test loss 0.06965228622181042\n",
      "Epoch 28: Test loss 0.06926902374369001\n",
      "Epoch 29: Test loss 0.06888831169617371\n",
      "Epoch 30: Test loss 0.06851014120363379\n",
      "Epoch 31: Test loss 0.06813450315959409\n",
      "Epoch 32: Test loss 0.06776138823395249\n",
      "Epoch 33: Test loss 0.06739078688009861\n",
      "Epoch 34: Test loss 0.06702268934198154\n",
      "Epoch 35: Test loss 0.0666570856610814\n",
      "Epoch 36: Test loss 0.0662939656832919\n",
      "Epoch 37: Test loss 0.06593331906573675\n",
      "Epoch 38: Test loss 0.06557513528348458\n",
      "Epoch 39: Test loss 0.06521940363618302\n",
      "Epoch 40: Test loss 0.06486611325459375\n",
      "Epoch 41: Test loss 0.0645152531070453\n",
      "Epoch 42: Test loss 0.06416681200577858\n",
      "Epoch 43: Test loss 0.06382077861321664\n",
      "Epoch 44: Test loss 0.06347714144812333\n",
      "Epoch 45: Test loss 0.06313588889167109\n",
      "Epoch 46: Test loss 0.06279700919340714\n",
      "Epoch 47: Test loss 0.06246049047712736\n",
      "Epoch 48: Test loss 0.06212632074664882\n",
      "Epoch 49: Test loss 0.06179448789147602\n",
      "Epoch 50: Test loss 0.06146497969237881\n",
      "Epoch 51: Test loss 0.06113778382685744\n",
      "Epoch 52: Test loss 0.06081288787451489\n",
      "Epoch 53: Test loss 0.060490279322325945\n",
      "Epoch 54: Test loss 0.06016994556980591\n",
      "Epoch 55: Test loss 0.05985187393407715\n",
      "Epoch 56: Test loss 0.059536051654830294\n",
      "Epoch 57: Test loss 0.059222465899199966\n",
      "Epoch 58: Test loss 0.05891110376651908\n",
      "Epoch 59: Test loss 0.05860195229299186\n",
      "Epoch 60: Test loss 0.05829499845625335\n",
      "Epoch 61: Test loss 0.05799022917983794\n",
      "Epoch 62: Test loss 0.057687631337548076\n",
      "Epoch 63: Test loss 0.0573871917577196\n",
      "Epoch 64: Test loss 0.05708889722739299\n",
      "Epoch 65: Test loss 0.05679273449639506\n",
      "Epoch 66: Test loss 0.056498690281307724\n",
      "Epoch 67: Test loss 0.056206751269363524\n",
      "Epoch 68: Test loss 0.055916904122223846\n",
      "Epoch 69: Test loss 0.055629135479680764\n",
      "Epoch 70: Test loss 0.05534343196326133\n",
      "Epoch 71: Test loss 0.055059780179732995\n",
      "Epoch 72: Test loss 0.05477816672453401\n",
      "Epoch 73: Test loss 0.054498578185099567\n",
      "Epoch 74: Test loss 0.05422100114410305\n",
      "Epoch 75: Test loss 0.05394542218261776\n",
      "Epoch 76: Test loss 0.05367182788318402\n",
      "Epoch 77: Test loss 0.053400204832792786\n",
      "Epoch 78: Test loss 0.053130539625787294\n",
      "Epoch 79: Test loss 0.052862818866681656\n",
      "Epoch 80: Test loss 0.05259702917289682\n",
      "Epoch 81: Test loss 0.052333157177414553\n",
      "Epoch 82: Test loss 0.05207118953135767\n",
      "Epoch 83: Test loss 0.05181111290648696\n",
      "Epoch 84: Test loss 0.051552913997623386\n",
      "Epoch 85: Test loss 0.05129657952499617\n",
      "Epoch 86: Test loss 0.051042096236514\n",
      "Epoch 87: Test loss 0.05078945090996702\n",
      "Epoch 88: Test loss 0.050538630355152235\n",
      "Epoch 89: Test loss 0.050289621415935556\n",
      "Epoch 90: Test loss 0.05004241097223557\n",
      "Epoch 91: Test loss 0.04979698594194845\n",
      "Epoch 92: Test loss 0.04955333328280116\n",
      "Epoch 93: Test loss 0.04931143999414071\n",
      "Epoch 94: Test loss 0.049071293118659445\n",
      "Epoch 95: Test loss 0.048832879744058054\n",
      "Epoch 96: Test loss 0.04859618700464484\n",
      "Epoch 97: Test loss 0.048361202082882075\n",
      "Epoch 98: Test loss 0.04812791221086005\n",
      "Epoch 99: Test loss 0.047896304671727195\n",
      "126.82687187194824 seconds elapsed.\n"
     ]
    }
   ],
   "source": [
    "x = np.random.normal(0.0, 1.0, (10,))\n",
    "y = np.random.normal(0.0, 1.0, (2,))\n",
    "\n",
    "dnn = DNN(hidden_depth=5, num_neuron=32, num_input=10, num_output=2, activation=sigmoid)\n",
    "\n",
    "t = time.time()\n",
    "for epoch in range(100):\n",
    "    loss = gradient_descent(dnn, x, y, mean_squared_error, 0.01)\n",
    "    print('Epoch {}: Test loss {}'.format(epoch, loss))\n",
    "print('{} seconds elapsed.'.format(time.time() - t))"
   ]
  },
  {
   "cell_type": "code",
   "execution_count": null,
   "metadata": {},
   "outputs": [],
   "source": []
  }
 ],
 "metadata": {
  "kernelspec": {
   "display_name": "Python 3",
   "language": "python",
   "name": "python3"
  },
  "language_info": {
   "codemirror_mode": {
    "name": "ipython",
    "version": 3
   },
   "file_extension": ".py",
   "mimetype": "text/x-python",
   "name": "python",
   "nbconvert_exporter": "python",
   "pygments_lexer": "ipython3",
   "version": "3.7.7"
  }
 },
 "nbformat": 4,
 "nbformat_minor": 2
}
